{
 "cells": [
  {
   "cell_type": "code",
   "execution_count": 1,
   "id": "3497995e-4f84-478f-9797-d75ba72743ec",
   "metadata": {},
   "outputs": [],
   "source": [
    "import pandas as pd\n",
    "import matplotlib.pyplot as plt\n",
    "import numpy as np\n",
    "import yfinance as yf"
   ]
  },
  {
   "cell_type": "code",
   "execution_count": 2,
   "id": "c9b67016-4ceb-4b27-a35d-9d9d7d07e8b0",
   "metadata": {},
   "outputs": [],
   "source": [
    "df = yf.download('AAPL',\n",
    "                       start='2012-01-01',\n",
    "                       end='2023-06-01',\n",
    "                       progress=False)"
   ]
  },
  {
   "cell_type": "code",
   "execution_count": null,
   "id": "241d835a-fc54-4278-b186-0707948aac35",
   "metadata": {},
   "outputs": [],
   "source": []
  },
  {
   "cell_type": "code",
   "execution_count": 5,
   "id": "e773ece7-4fd4-4bd6-8dfc-29afaeb2e544",
   "metadata": {},
   "outputs": [],
   "source": [
    "# Initialize the short, long windows, and alpha\n",
    "short_window = 50\n",
    "long_window = 120\n",
    "alpha = 0.1"
   ]
  },
  {
   "cell_type": "code",
   "execution_count": 6,
   "id": "47e851b9-0bc5-4be3-820f-16af9d25a184",
   "metadata": {},
   "outputs": [],
   "source": [
    "# Create a new dataframe called signals with indices taken from our original dataframe.\n",
    "signals = pd.DataFrame(index=df.index)"
   ]
  },
  {
   "cell_type": "code",
   "execution_count": 7,
   "id": "19b7b12e-a69d-4479-a3b0-51518f1385c8",
   "metadata": {},
   "outputs": [
    {
     "data": {
      "text/html": [
       "<div>\n",
       "<style scoped>\n",
       "    .dataframe tbody tr th:only-of-type {\n",
       "        vertical-align: middle;\n",
       "    }\n",
       "\n",
       "    .dataframe tbody tr th {\n",
       "        vertical-align: top;\n",
       "    }\n",
       "\n",
       "    .dataframe thead th {\n",
       "        text-align: right;\n",
       "    }\n",
       "</style>\n",
       "<table border=\"1\" class=\"dataframe\">\n",
       "  <thead>\n",
       "    <tr style=\"text-align: right;\">\n",
       "      <th></th>\n",
       "    </tr>\n",
       "    <tr>\n",
       "      <th>Date</th>\n",
       "    </tr>\n",
       "  </thead>\n",
       "  <tbody>\n",
       "    <tr>\n",
       "      <th>2012-01-03</th>\n",
       "    </tr>\n",
       "    <tr>\n",
       "      <th>2012-01-04</th>\n",
       "    </tr>\n",
       "    <tr>\n",
       "      <th>2012-01-05</th>\n",
       "    </tr>\n",
       "    <tr>\n",
       "      <th>2012-01-06</th>\n",
       "    </tr>\n",
       "    <tr>\n",
       "      <th>2012-01-09</th>\n",
       "    </tr>\n",
       "    <tr>\n",
       "      <th>...</th>\n",
       "    </tr>\n",
       "    <tr>\n",
       "      <th>2023-05-24</th>\n",
       "    </tr>\n",
       "    <tr>\n",
       "      <th>2023-05-25</th>\n",
       "    </tr>\n",
       "    <tr>\n",
       "      <th>2023-05-26</th>\n",
       "    </tr>\n",
       "    <tr>\n",
       "      <th>2023-05-30</th>\n",
       "    </tr>\n",
       "    <tr>\n",
       "      <th>2023-05-31</th>\n",
       "    </tr>\n",
       "  </tbody>\n",
       "</table>\n",
       "<p>2871 rows × 0 columns</p>\n",
       "</div>"
      ],
      "text/plain": [
       "Empty DataFrame\n",
       "Columns: []\n",
       "Index: [2012-01-03 00:00:00, 2012-01-04 00:00:00, 2012-01-05 00:00:00, 2012-01-06 00:00:00, 2012-01-09 00:00:00, 2012-01-10 00:00:00, 2012-01-11 00:00:00, 2012-01-12 00:00:00, 2012-01-13 00:00:00, 2012-01-17 00:00:00, 2012-01-18 00:00:00, 2012-01-19 00:00:00, 2012-01-20 00:00:00, 2012-01-23 00:00:00, 2012-01-24 00:00:00, 2012-01-25 00:00:00, 2012-01-26 00:00:00, 2012-01-27 00:00:00, 2012-01-30 00:00:00, 2012-01-31 00:00:00, 2012-02-01 00:00:00, 2012-02-02 00:00:00, 2012-02-03 00:00:00, 2012-02-06 00:00:00, 2012-02-07 00:00:00, 2012-02-08 00:00:00, 2012-02-09 00:00:00, 2012-02-10 00:00:00, 2012-02-13 00:00:00, 2012-02-14 00:00:00, 2012-02-15 00:00:00, 2012-02-16 00:00:00, 2012-02-17 00:00:00, 2012-02-21 00:00:00, 2012-02-22 00:00:00, 2012-02-23 00:00:00, 2012-02-24 00:00:00, 2012-02-27 00:00:00, 2012-02-28 00:00:00, 2012-02-29 00:00:00, 2012-03-01 00:00:00, 2012-03-02 00:00:00, 2012-03-05 00:00:00, 2012-03-06 00:00:00, 2012-03-07 00:00:00, 2012-03-08 00:00:00, 2012-03-09 00:00:00, 2012-03-12 00:00:00, 2012-03-13 00:00:00, 2012-03-14 00:00:00, 2012-03-15 00:00:00, 2012-03-16 00:00:00, 2012-03-19 00:00:00, 2012-03-20 00:00:00, 2012-03-21 00:00:00, 2012-03-22 00:00:00, 2012-03-23 00:00:00, 2012-03-26 00:00:00, 2012-03-27 00:00:00, 2012-03-28 00:00:00, 2012-03-29 00:00:00, 2012-03-30 00:00:00, 2012-04-02 00:00:00, 2012-04-03 00:00:00, 2012-04-04 00:00:00, 2012-04-05 00:00:00, 2012-04-09 00:00:00, 2012-04-10 00:00:00, 2012-04-11 00:00:00, 2012-04-12 00:00:00, 2012-04-13 00:00:00, 2012-04-16 00:00:00, 2012-04-17 00:00:00, 2012-04-18 00:00:00, 2012-04-19 00:00:00, 2012-04-20 00:00:00, 2012-04-23 00:00:00, 2012-04-24 00:00:00, 2012-04-25 00:00:00, 2012-04-26 00:00:00, 2012-04-27 00:00:00, 2012-04-30 00:00:00, 2012-05-01 00:00:00, 2012-05-02 00:00:00, 2012-05-03 00:00:00, 2012-05-04 00:00:00, 2012-05-07 00:00:00, 2012-05-08 00:00:00, 2012-05-09 00:00:00, 2012-05-10 00:00:00, 2012-05-11 00:00:00, 2012-05-14 00:00:00, 2012-05-15 00:00:00, 2012-05-16 00:00:00, 2012-05-17 00:00:00, 2012-05-18 00:00:00, 2012-05-21 00:00:00, 2012-05-22 00:00:00, 2012-05-23 00:00:00, 2012-05-24 00:00:00, ...]\n",
       "\n",
       "[2871 rows x 0 columns]"
      ]
     },
     "execution_count": 7,
     "metadata": {},
     "output_type": "execute_result"
    }
   ],
   "source": [
    "signals"
   ]
  },
  {
   "cell_type": "code",
   "execution_count": 11,
   "id": "4d7799d6-f136-4b86-89d2-3d86f1decde5",
   "metadata": {},
   "outputs": [],
   "source": [
    "#Initialize to zeros \n",
    "signals['ema_signal'] = 0.0\n",
    "signals['ema_positions'] = 0.0\n",
    "signals['sma_signal'] = 0.0"
   ]
  },
  {
   "cell_type": "code",
   "execution_count": 12,
   "id": "05e68eef-4b17-4808-9c8e-c8abba8e6b5e",
   "metadata": {},
   "outputs": [],
   "source": [
    "# Create exponential moving average values for an alpha value\n",
    "signals['ema'] =  df['Close'].ewm(alpha=alpha, adjust=False).mean()"
   ]
  },
  {
   "cell_type": "code",
   "execution_count": null,
   "id": "91615a75-e0ed-40a1-8f0f-745ee72e3683",
   "metadata": {},
   "outputs": [],
   "source": []
  },
  {
   "cell_type": "code",
   "execution_count": 13,
   "id": "87c024d5-eeea-431d-b80c-52b5aa2a0ff3",
   "metadata": {},
   "outputs": [],
   "source": [
    "# Create short simple moving average over the short window. We use the following arguments for the 'rolling' method\n",
    "\n",
    "# min_periods = 1 - Minimum number of observations in window required to have a value (otherwise result is NA).  \n",
    "\n",
    "# center = False, so that the labels are not set at the center of the window (default value is actually False,\n",
    "# so even if we did not use this argument, that would be alright).   \n",
    "signals['short_mavg'] =  df['Close'].rolling(window=short_window, min_periods=1, center=False).mean()"
   ]
  },
  {
   "cell_type": "code",
   "execution_count": null,
   "id": "b2431a96-6bf6-40a3-8f05-ced2927e6321",
   "metadata": {},
   "outputs": [],
   "source": []
  },
  {
   "cell_type": "code",
   "execution_count": 14,
   "id": "b9698202-5ff6-4d8c-94cb-294512cb3e46",
   "metadata": {},
   "outputs": [],
   "source": [
    "\n",
    "# Create long simple moving average over the long window. We use the following arguments for the 'rolling' method\n",
    "\n",
    "# min_periods = 1 - Minimum number of observations in window required to have a value (otherwise result is NA).  \n",
    "\n",
    "# center = False, so that the labels are not set at the center of the window (default value is actually False,\n",
    "# so even if we did not use this argument, that would be alright).  \n",
    "signals['long_mavg'] = df['Close'].rolling(window=long_window, min_periods=1, center=False).mean()"
   ]
  },
  {
   "cell_type": "code",
   "execution_count": 15,
   "id": "73e71f77-ffa9-4c14-9d94-989664bc15d2",
   "metadata": {},
   "outputs": [],
   "source": [
    "# Initialize to zero\n",
    "signals['sma_positions'] = 0.0"
   ]
  },
  {
   "cell_type": "code",
   "execution_count": 19,
   "id": "73fec853-87cb-4430-9e44-8c7421982b72",
   "metadata": {},
   "outputs": [
    {
     "data": {
      "text/html": [
       "<div>\n",
       "<style scoped>\n",
       "    .dataframe tbody tr th:only-of-type {\n",
       "        vertical-align: middle;\n",
       "    }\n",
       "\n",
       "    .dataframe tbody tr th {\n",
       "        vertical-align: top;\n",
       "    }\n",
       "\n",
       "    .dataframe thead th {\n",
       "        text-align: right;\n",
       "    }\n",
       "</style>\n",
       "<table border=\"1\" class=\"dataframe\">\n",
       "  <thead>\n",
       "    <tr style=\"text-align: right;\">\n",
       "      <th></th>\n",
       "      <th>ema</th>\n",
       "      <th>ema_signal</th>\n",
       "      <th>ema_positions</th>\n",
       "      <th>sma_signal</th>\n",
       "      <th>short_mavg</th>\n",
       "      <th>long_mavg</th>\n",
       "      <th>sma_positions</th>\n",
       "    </tr>\n",
       "    <tr>\n",
       "      <th>Date</th>\n",
       "      <th></th>\n",
       "      <th></th>\n",
       "      <th></th>\n",
       "      <th></th>\n",
       "      <th></th>\n",
       "      <th></th>\n",
       "      <th></th>\n",
       "    </tr>\n",
       "  </thead>\n",
       "  <tbody>\n",
       "    <tr>\n",
       "      <th>2012-01-03</th>\n",
       "      <td>14.686786</td>\n",
       "      <td>0.0</td>\n",
       "      <td>0.0</td>\n",
       "      <td>0.0</td>\n",
       "      <td>14.686786</td>\n",
       "      <td>14.686786</td>\n",
       "      <td>0.0</td>\n",
       "    </tr>\n",
       "    <tr>\n",
       "      <th>2012-01-04</th>\n",
       "      <td>14.694678</td>\n",
       "      <td>0.0</td>\n",
       "      <td>0.0</td>\n",
       "      <td>0.0</td>\n",
       "      <td>14.726250</td>\n",
       "      <td>14.726250</td>\n",
       "      <td>0.0</td>\n",
       "    </tr>\n",
       "    <tr>\n",
       "      <th>2012-01-05</th>\n",
       "      <td>14.718175</td>\n",
       "      <td>0.0</td>\n",
       "      <td>0.0</td>\n",
       "      <td>0.0</td>\n",
       "      <td>14.794047</td>\n",
       "      <td>14.794047</td>\n",
       "      <td>0.0</td>\n",
       "    </tr>\n",
       "    <tr>\n",
       "      <th>2012-01-06</th>\n",
       "      <td>14.754929</td>\n",
       "      <td>0.0</td>\n",
       "      <td>0.0</td>\n",
       "      <td>0.0</td>\n",
       "      <td>14.866964</td>\n",
       "      <td>14.866964</td>\n",
       "      <td>0.0</td>\n",
       "    </tr>\n",
       "    <tr>\n",
       "      <th>2012-01-09</th>\n",
       "      <td>14.785615</td>\n",
       "      <td>0.0</td>\n",
       "      <td>0.0</td>\n",
       "      <td>0.0</td>\n",
       "      <td>14.905928</td>\n",
       "      <td>14.905928</td>\n",
       "      <td>0.0</td>\n",
       "    </tr>\n",
       "    <tr>\n",
       "      <th>...</th>\n",
       "      <td>...</td>\n",
       "      <td>...</td>\n",
       "      <td>...</td>\n",
       "      <td>...</td>\n",
       "      <td>...</td>\n",
       "      <td>...</td>\n",
       "      <td>...</td>\n",
       "    </tr>\n",
       "    <tr>\n",
       "      <th>2023-05-24</th>\n",
       "      <td>171.363143</td>\n",
       "      <td>0.0</td>\n",
       "      <td>0.0</td>\n",
       "      <td>0.0</td>\n",
       "      <td>165.841800</td>\n",
       "      <td>152.284833</td>\n",
       "      <td>0.0</td>\n",
       "    </tr>\n",
       "    <tr>\n",
       "      <th>2023-05-25</th>\n",
       "      <td>171.525829</td>\n",
       "      <td>0.0</td>\n",
       "      <td>0.0</td>\n",
       "      <td>0.0</td>\n",
       "      <td>166.241800</td>\n",
       "      <td>152.490500</td>\n",
       "      <td>0.0</td>\n",
       "    </tr>\n",
       "    <tr>\n",
       "      <th>2023-05-26</th>\n",
       "      <td>171.916245</td>\n",
       "      <td>0.0</td>\n",
       "      <td>0.0</td>\n",
       "      <td>0.0</td>\n",
       "      <td>166.633400</td>\n",
       "      <td>152.720667</td>\n",
       "      <td>0.0</td>\n",
       "    </tr>\n",
       "    <tr>\n",
       "      <th>2023-05-30</th>\n",
       "      <td>172.454621</td>\n",
       "      <td>0.0</td>\n",
       "      <td>0.0</td>\n",
       "      <td>0.0</td>\n",
       "      <td>167.079400</td>\n",
       "      <td>152.976250</td>\n",
       "      <td>0.0</td>\n",
       "    </tr>\n",
       "    <tr>\n",
       "      <th>2023-05-31</th>\n",
       "      <td>172.934159</td>\n",
       "      <td>0.0</td>\n",
       "      <td>0.0</td>\n",
       "      <td>0.0</td>\n",
       "      <td>167.476400</td>\n",
       "      <td>153.262417</td>\n",
       "      <td>0.0</td>\n",
       "    </tr>\n",
       "  </tbody>\n",
       "</table>\n",
       "<p>2871 rows × 7 columns</p>\n",
       "</div>"
      ],
      "text/plain": [
       "                   ema  ema_signal  ema_positions  sma_signal  short_mavg  \\\n",
       "Date                                                                        \n",
       "2012-01-03   14.686786         0.0            0.0         0.0   14.686786   \n",
       "2012-01-04   14.694678         0.0            0.0         0.0   14.726250   \n",
       "2012-01-05   14.718175         0.0            0.0         0.0   14.794047   \n",
       "2012-01-06   14.754929         0.0            0.0         0.0   14.866964   \n",
       "2012-01-09   14.785615         0.0            0.0         0.0   14.905928   \n",
       "...                ...         ...            ...         ...         ...   \n",
       "2023-05-24  171.363143         0.0            0.0         0.0  165.841800   \n",
       "2023-05-25  171.525829         0.0            0.0         0.0  166.241800   \n",
       "2023-05-26  171.916245         0.0            0.0         0.0  166.633400   \n",
       "2023-05-30  172.454621         0.0            0.0         0.0  167.079400   \n",
       "2023-05-31  172.934159         0.0            0.0         0.0  167.476400   \n",
       "\n",
       "             long_mavg  sma_positions  \n",
       "Date                                   \n",
       "2012-01-03   14.686786            0.0  \n",
       "2012-01-04   14.726250            0.0  \n",
       "2012-01-05   14.794047            0.0  \n",
       "2012-01-06   14.866964            0.0  \n",
       "2012-01-09   14.905928            0.0  \n",
       "...                ...            ...  \n",
       "2023-05-24  152.284833            0.0  \n",
       "2023-05-25  152.490500            0.0  \n",
       "2023-05-26  152.720667            0.0  \n",
       "2023-05-30  152.976250            0.0  \n",
       "2023-05-31  153.262417            0.0  \n",
       "\n",
       "[2871 rows x 7 columns]"
      ]
     },
     "execution_count": 19,
     "metadata": {},
     "output_type": "execute_result"
    }
   ],
   "source": [
    "signals"
   ]
  },
  {
   "cell_type": "code",
   "execution_count": null,
   "id": "2db1fe7d-356c-4362-a3e0-53360a7b9aeb",
   "metadata": {},
   "outputs": [],
   "source": []
  },
  {
   "cell_type": "markdown",
   "id": "e9300862-319f-4fe7-917f-1e7f911cc826",
   "metadata": {},
   "source": [
    "### Computation and plotting of strategy - Part 1"
   ]
  },
  {
   "cell_type": "code",
   "execution_count": 21,
   "id": "ad0b3e9e-fc0a-4ff3-97b7-b46c63083248",
   "metadata": {},
   "outputs": [],
   "source": [
    "# Change signal values to 1 whenever it is above the price\n",
    "signals['ema_signal'] = np.where(signals['ema'] > df['Close'], 1.0, 0.0)\n",
    "\n"
   ]
  },
  {
   "cell_type": "code",
   "execution_count": 22,
   "id": "09b6807d-964d-4150-881f-3082527bc5d5",
   "metadata": {},
   "outputs": [],
   "source": [
    "# Calculate the position values. Whenever the signal changes from 0 to 1, we will obtain a value of +1\n",
    "# Whenever the signal changes from 1 to 0, we will obtain a value of -1\n",
    "signals['ema_positions'] = signals['ema_signal'].diff()\n"
   ]
  },
  {
   "cell_type": "code",
   "execution_count": 34,
   "id": "04d7ca38-d8cd-48a7-9ad3-9d4bc44c98cc",
   "metadata": {},
   "outputs": [
    {
     "name": "stdout",
     "output_type": "stream",
     "text": [
      "                   ema  ema_signal  ema_positions  sma_signal  short_mavg  \\\n",
      "Date                                                                        \n",
      "2012-01-03   14.686786         0.0            NaN         0.0   14.686786   \n",
      "2012-01-04   14.694678         0.0            0.0         0.0   14.726250   \n",
      "2012-01-05   14.718175         0.0            0.0         0.0   14.794047   \n",
      "2012-01-06   14.754929         0.0            0.0         0.0   14.866964   \n",
      "2012-01-09   14.785615         0.0            0.0         0.0   14.905928   \n",
      "...                ...         ...            ...         ...         ...   \n",
      "2023-05-24  171.363143         0.0            0.0         1.0  165.841800   \n",
      "2023-05-25  171.525829         0.0            0.0         1.0  166.241800   \n",
      "2023-05-26  171.916245         0.0            0.0         1.0  166.633400   \n",
      "2023-05-30  172.454621         0.0            0.0         1.0  167.079400   \n",
      "2023-05-31  172.934159         0.0            0.0         1.0  167.476400   \n",
      "\n",
      "             long_mavg  sma_positions  \n",
      "Date                                   \n",
      "2012-01-03   14.686786            NaN  \n",
      "2012-01-04   14.726250            0.0  \n",
      "2012-01-05   14.794047            0.0  \n",
      "2012-01-06   14.866964            0.0  \n",
      "2012-01-09   14.905928            0.0  \n",
      "...                ...            ...  \n",
      "2023-05-24  152.284833            0.0  \n",
      "2023-05-25  152.490500            0.0  \n",
      "2023-05-26  152.720667            0.0  \n",
      "2023-05-30  152.976250            0.0  \n",
      "2023-05-31  153.262417            0.0  \n",
      "\n",
      "[2871 rows x 7 columns]\n"
     ]
    }
   ],
   "source": [
    "print(signals)"
   ]
  },
  {
   "cell_type": "code",
   "execution_count": null,
   "id": "27d8f55d-e273-49dc-b4bb-d52c67603b49",
   "metadata": {},
   "outputs": [],
   "source": []
  },
  {
   "cell_type": "code",
   "execution_count": 35,
   "id": "75b1451b-619b-49ec-a53d-9a95da993ccb",
   "metadata": {},
   "outputs": [
    {
     "data": {
      "text/plain": [
       "<Figure size 1200x1000 with 0 Axes>"
      ]
     },
     "metadata": {},
     "output_type": "display_data"
    }
   ],
   "source": [
    "# Initialize the plot figure\n",
    "fig = plt.figure(figsize=(12,10))"
   ]
  },
  {
   "cell_type": "code",
   "execution_count": 36,
   "id": "0fde3c7b-8e6a-4df0-9904-9904b3f03a42",
   "metadata": {},
   "outputs": [
    {
     "name": "stderr",
     "output_type": "stream",
     "text": [
      "No artists with labels found to put in legend.  Note that artists whose label start with an underscore are ignored when legend() is called with no argument.\n"
     ]
    },
    {
     "data": {
      "image/png": "[encoded data removed]",
      "text/plain": [
       "<Figure size 640x480 with 1 Axes>"
      ]
     },
     "metadata": {},
     "output_type": "display_data"
    }
   ],
   "source": [
    "# Add a subplot and label for y-axis\n",
    "ax1 = fig.add_subplot(111,  ylabel='Price in $')\n",
    "\n",
    "# Make a subset of signals from January 2018 for clearer visualization\n",
    "signals2 = signals.loc['2018-01-01':,:]\n",
    "\n",
    "# Plot the closing price\n",
    "df.loc['2018-01-01':,'Close'].plot(ax=ax1, color='r', lw=2.,label='Close Price')\n",
    "\n",
    "# Plot the short and long moving averages\n",
    "signals2.loc[:,'ema'].plot(ax=ax1, lw=2.)\n",
    "\n",
    "# Plot the buy signals\n",
    "ax1.plot(signals2.loc[signals2.ema_positions == 1.0].index,\n",
    "         signals2.ema[signals2.ema_positions == 1.0],\n",
    "         'o', markersize=10, color='r')\n",
    "\n",
    "# Plot the sell signals\n",
    "ax1.plot(signals2.loc[signals2.ema_positions == -1.0].index,\n",
    "         signals2.ema[signals2.ema_positions == -1.0],\n",
    "         '^', markersize=10, color='g')\n",
    "\n",
    "plt.legend()\n",
    "\n",
    "fig.savefig('strategy_1_signals.png')\n",
    "\n"
   ]
  },
  {
   "cell_type": "code",
   "execution_count": null,
   "id": "d386552c-d7d1-4409-b5d4-7f13109242fc",
   "metadata": {},
   "outputs": [],
   "source": []
  },
  {
   "cell_type": "code",
   "execution_count": 31,
   "id": "d133ba0c-6138-4d35-9e5c-73602e58209a",
   "metadata": {},
   "outputs": [
    {
     "name": "stdout",
     "output_type": "stream",
     "text": [
      "                   ema  ema_signal  ema_positions  sma_signal  short_mavg  \\\n",
      "Date                                                                        \n",
      "2012-01-03   14.686786         0.0            NaN         0.0   14.686786   \n",
      "2012-01-04   14.694678         0.0            0.0         0.0   14.726250   \n",
      "2012-01-05   14.718175         0.0            0.0         0.0   14.794047   \n",
      "2012-01-06   14.754929         0.0            0.0         0.0   14.866964   \n",
      "2012-01-09   14.785615         0.0            0.0         0.0   14.905928   \n",
      "...                ...         ...            ...         ...         ...   \n",
      "2023-05-24  171.363143         0.0            0.0         1.0  165.841800   \n",
      "2023-05-25  171.525829         0.0            0.0         1.0  166.241800   \n",
      "2023-05-26  171.916245         0.0            0.0         1.0  166.633400   \n",
      "2023-05-30  172.454621         0.0            0.0         1.0  167.079400   \n",
      "2023-05-31  172.934159         0.0            0.0         1.0  167.476400   \n",
      "\n",
      "             long_mavg  sma_positions  \n",
      "Date                                   \n",
      "2012-01-03   14.686786            NaN  \n",
      "2012-01-04   14.726250            0.0  \n",
      "2012-01-05   14.794047            0.0  \n",
      "2012-01-06   14.866964            0.0  \n",
      "2012-01-09   14.905928            0.0  \n",
      "...                ...            ...  \n",
      "2023-05-24  152.284833            0.0  \n",
      "2023-05-25  152.490500            0.0  \n",
      "2023-05-26  152.720667            0.0  \n",
      "2023-05-30  152.976250            0.0  \n",
      "2023-05-31  153.262417            0.0  \n",
      "\n",
      "[2871 rows x 7 columns]\n"
     ]
    }
   ],
   "source": [
    "# Create signals in the same way we did so in step 3, but this time we assign 1 as a signal whenever the short\n",
    "# MA is above the long MA\n",
    "\n",
    "# Since we are using iloc, we need to specify the integer values of the columns. 3, 4 and 5 correspond to the\n",
    "# 'sma_signal', 'short_mavg' and 'long_mavg' respectively\n",
    "signals.iloc[short_window:,3] = np.where(signals.iloc[short_window:,4]\n",
    "                                            > signals.iloc[short_window:,5], 1.0, 0.0)\n",
    "\n",
    "# Create trading orders similarly to how we did in step 3\n",
    "signals['sma_positions'] = signals['sma_signal'].diff()\n",
    "print(signals)"
   ]
  },
  {
   "cell_type": "code",
   "execution_count": 32,
   "id": "f435d741-65a2-42cc-ba82-46f86a16340a",
   "metadata": {},
   "outputs": [
    {
     "data": {
      "image/png": "[encoded data removed]",
      "text/plain": [
       "<Figure size 1200x1000 with 1 Axes>"
      ]
     },
     "metadata": {},
     "output_type": "display_data"
    }
   ],
   "source": [
    "# Initialize the plot figure\n",
    "fig = plt.figure(figsize=(12,10))\n",
    "\n",
    "# Add a subplot and label for y-axis\n",
    "ax1 = fig.add_subplot(111,  ylabel='Price in $')\n",
    "\n",
    "# Plot the closing price\n",
    "df['Close'].plot(ax=ax1, color='r', lw=2.,label='Close Price')\n",
    "\n",
    "# Plot the short and long moving averages\n",
    "signals[['short_mavg', 'long_mavg',]].plot(ax=ax1, lw=2.)\n",
    "\n",
    "# Plot the buy signals\n",
    "ax1.plot(signals.loc[signals.sma_positions == 1.0].index,\n",
    "         signals.short_mavg[signals.sma_positions == 1.0],\n",
    "         '^', markersize=10, color='g')\n",
    "\n",
    "# Plot the sell signals\n",
    "ax1.plot(signals.loc[signals.sma_positions == -1.0].index,\n",
    "         signals.short_mavg[signals.sma_positions == -1.0],\n",
    "         'o', markersize=10, color='r')\n",
    "\n",
    "plt.legend()\n",
    "\n",
    "fig.savefig('strategy_2_signals.png')"
   ]
  },
  {
   "cell_type": "code",
   "execution_count": null,
   "id": "9417a4ee-a1aa-4f87-86fc-a4d0af3bd024",
   "metadata": {},
   "outputs": [],
   "source": []
  }
 ],
 "metadata": {
  "kernelspec": {
   "display_name": "Python 3 (ipykernel)",
   "language": "python",
   "name": "python3"
  },
  "language_info": {
   "codemirror_mode": {
    "name": "ipython",
    "version": 3
   },
   "file_extension": ".py",
   "mimetype": "text/x-python",
   "name": "python",
   "nbconvert_exporter": "python",
   "pygments_lexer": "ipython3",
   "version": "3.10.6"
  }
 },
 "nbformat": 4,
 "nbformat_minor": 5
}
