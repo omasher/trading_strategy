{
 "cells": [
  {
   "cell_type": "code",
   "execution_count": 33,
   "id": "3c60dc4d-514d-47e9-83fa-668f7e119e5c",
   "metadata": {},
   "outputs": [],
   "source": [
    "import pandas as pd\n",
    "import matplotlib.pyplot as plt\n",
    "import numpy as np\n",
    "import yfinance as yf"
   ]
  },
  {
   "cell_type": "code",
   "execution_count": 34,
   "id": "1b1e5b9b-540e-4aa6-b345-7436676e8c67",
   "metadata": {},
   "outputs": [],
   "source": [
    "df = yf.download('AAPL',\n",
    "                       start='2011-01-01',\n",
    "                       end='2023-05-30',\n",
    "                       progress=False)"
   ]
  },
  {
   "cell_type": "code",
   "execution_count": null,
   "id": "5e60289f-a7dc-449c-b4a2-986643642e29",
   "metadata": {},
   "outputs": [],
   "source": []
  },
  {
   "cell_type": "markdown",
   "id": "05e69b4f-94b5-4a0d-924e-963cb11ff711",
   "metadata": {},
   "source": [
    "### Calculating Simple and Log Returns "
   ]
  },
  {
   "cell_type": "code",
   "execution_count": 37,
   "id": "b6167994-b6e1-4d87-9907-09463fe240a2",
   "metadata": {},
   "outputs": [],
   "source": [
    "df['simple_return'] = df['Adj Close'].pct_change()"
   ]
  },
  {
   "cell_type": "code",
   "execution_count": 39,
   "id": "7f5bd5ee-ea65-4957-b7b0-7e20203b7967",
   "metadata": {},
   "outputs": [],
   "source": [
    "df['log_return'] = np.log(df['Adj Close']/df['Adj Close'].shift(1))"
   ]
  },
  {
   "cell_type": "code",
   "execution_count": null,
   "id": "62acbab2-970a-4c9c-9c81-e2caf1c9b83f",
   "metadata": {},
   "outputs": [],
   "source": []
  },
  {
   "cell_type": "code",
   "execution_count": 40,
   "id": "275f3914-a57c-454c-8a54-005d133abe30",
   "metadata": {},
   "outputs": [
    {
     "data": {
      "text/html": [
       "<div>\n",
       "<style scoped>\n",
       "    .dataframe tbody tr th:only-of-type {\n",
       "        vertical-align: middle;\n",
       "    }\n",
       "\n",
       "    .dataframe tbody tr th {\n",
       "        vertical-align: top;\n",
       "    }\n",
       "\n",
       "    .dataframe thead th {\n",
       "        text-align: right;\n",
       "    }\n",
       "</style>\n",
       "<table border=\"1\" class=\"dataframe\">\n",
       "  <thead>\n",
       "    <tr style=\"text-align: right;\">\n",
       "      <th></th>\n",
       "      <th>Open</th>\n",
       "      <th>High</th>\n",
       "      <th>Low</th>\n",
       "      <th>Close</th>\n",
       "      <th>Adj Close</th>\n",
       "      <th>Volume</th>\n",
       "      <th>simple_return</th>\n",
       "      <th>log_return</th>\n",
       "    </tr>\n",
       "    <tr>\n",
       "      <th>Date</th>\n",
       "      <th></th>\n",
       "      <th></th>\n",
       "      <th></th>\n",
       "      <th></th>\n",
       "      <th></th>\n",
       "      <th></th>\n",
       "      <th></th>\n",
       "      <th></th>\n",
       "    </tr>\n",
       "  </thead>\n",
       "  <tbody>\n",
       "    <tr>\n",
       "      <th>2011-01-03</th>\n",
       "      <td>11.630000</td>\n",
       "      <td>11.795000</td>\n",
       "      <td>11.601429</td>\n",
       "      <td>11.770357</td>\n",
       "      <td>10.004132</td>\n",
       "      <td>445138400</td>\n",
       "      <td>NaN</td>\n",
       "      <td>NaN</td>\n",
       "    </tr>\n",
       "    <tr>\n",
       "      <th>2011-01-04</th>\n",
       "      <td>11.872857</td>\n",
       "      <td>11.875000</td>\n",
       "      <td>11.719643</td>\n",
       "      <td>11.831786</td>\n",
       "      <td>10.056340</td>\n",
       "      <td>309080800</td>\n",
       "      <td>0.005219</td>\n",
       "      <td>0.005205</td>\n",
       "    </tr>\n",
       "    <tr>\n",
       "      <th>2011-01-05</th>\n",
       "      <td>11.769643</td>\n",
       "      <td>11.940714</td>\n",
       "      <td>11.767857</td>\n",
       "      <td>11.928571</td>\n",
       "      <td>10.138603</td>\n",
       "      <td>255519600</td>\n",
       "      <td>0.008180</td>\n",
       "      <td>0.008147</td>\n",
       "    </tr>\n",
       "    <tr>\n",
       "      <th>2011-01-06</th>\n",
       "      <td>11.954286</td>\n",
       "      <td>11.973214</td>\n",
       "      <td>11.889286</td>\n",
       "      <td>11.918929</td>\n",
       "      <td>10.130409</td>\n",
       "      <td>300428800</td>\n",
       "      <td>-0.000808</td>\n",
       "      <td>-0.000809</td>\n",
       "    </tr>\n",
       "    <tr>\n",
       "      <th>2011-01-07</th>\n",
       "      <td>11.928214</td>\n",
       "      <td>12.012500</td>\n",
       "      <td>11.853571</td>\n",
       "      <td>12.004286</td>\n",
       "      <td>10.202954</td>\n",
       "      <td>311931200</td>\n",
       "      <td>0.007161</td>\n",
       "      <td>0.007136</td>\n",
       "    </tr>\n",
       "  </tbody>\n",
       "</table>\n",
       "</div>"
      ],
      "text/plain": [
       "                 Open       High        Low      Close  Adj Close     Volume  \\\n",
       "Date                                                                           \n",
       "2011-01-03  11.630000  11.795000  11.601429  11.770357  10.004132  445138400   \n",
       "2011-01-04  11.872857  11.875000  11.719643  11.831786  10.056340  309080800   \n",
       "2011-01-05  11.769643  11.940714  11.767857  11.928571  10.138603  255519600   \n",
       "2011-01-06  11.954286  11.973214  11.889286  11.918929  10.130409  300428800   \n",
       "2011-01-07  11.928214  12.012500  11.853571  12.004286  10.202954  311931200   \n",
       "\n",
       "            simple_return  log_return  \n",
       "Date                                   \n",
       "2011-01-03            NaN         NaN  \n",
       "2011-01-04       0.005219    0.005205  \n",
       "2011-01-05       0.008180    0.008147  \n",
       "2011-01-06      -0.000808   -0.000809  \n",
       "2011-01-07       0.007161    0.007136  "
      ]
     },
     "execution_count": 40,
     "metadata": {},
     "output_type": "execute_result"
    }
   ],
   "source": [
    "df.head()"
   ]
  },
  {
   "cell_type": "code",
   "execution_count": null,
   "id": "276fab22-43e9-4be8-93d6-948b5b3205d0",
   "metadata": {},
   "outputs": [],
   "source": []
  },
  {
   "cell_type": "markdown",
   "id": "f44704cc-864e-4a28-af90-ffc188fc328d",
   "metadata": {},
   "source": [
    "#### Calculate Simple Daily Cumulative Returns"
   ]
  },
  {
   "attachments": {
    "3b710bf1-6257-40d0-b2cf-d6550ecbfc8e.png": {
     "image/png": "[encoded data removed]"
    }
   },
   "cell_type": "markdown",
   "id": "52831d42-7fa6-41fd-9fa5-9fc1836f3e4d",
   "metadata": {},
   "source": [
    "![image.png](attachment:3b710bf1-6257-40d0-b2cf-d6550ecbfc8e.png)"
   ]
  },
  {
   "cell_type": "code",
   "execution_count": 41,
   "id": "f2a81678-c1c6-47b6-8414-20d80b908820",
   "metadata": {},
   "outputs": [],
   "source": [
    "df['cum_daily_return'] = (1 + df['simple_return']).cumprod()"
   ]
  },
  {
   "cell_type": "code",
   "execution_count": 42,
   "id": "cb66cea0-7cc9-4d15-b470-c3ef4b7c3029",
   "metadata": {},
   "outputs": [
    {
     "data": {
      "text/html": [
       "<div>\n",
       "<style scoped>\n",
       "    .dataframe tbody tr th:only-of-type {\n",
       "        vertical-align: middle;\n",
       "    }\n",
       "\n",
       "    .dataframe tbody tr th {\n",
       "        vertical-align: top;\n",
       "    }\n",
       "\n",
       "    .dataframe thead th {\n",
       "        text-align: right;\n",
       "    }\n",
       "</style>\n",
       "<table border=\"1\" class=\"dataframe\">\n",
       "  <thead>\n",
       "    <tr style=\"text-align: right;\">\n",
       "      <th></th>\n",
       "      <th>Open</th>\n",
       "      <th>High</th>\n",
       "      <th>Low</th>\n",
       "      <th>Close</th>\n",
       "      <th>Adj Close</th>\n",
       "      <th>Volume</th>\n",
       "      <th>simple_return</th>\n",
       "      <th>log_return</th>\n",
       "      <th>cum_daily_return</th>\n",
       "    </tr>\n",
       "    <tr>\n",
       "      <th>Date</th>\n",
       "      <th></th>\n",
       "      <th></th>\n",
       "      <th></th>\n",
       "      <th></th>\n",
       "      <th></th>\n",
       "      <th></th>\n",
       "      <th></th>\n",
       "      <th></th>\n",
       "      <th></th>\n",
       "    </tr>\n",
       "  </thead>\n",
       "  <tbody>\n",
       "    <tr>\n",
       "      <th>2023-05-22</th>\n",
       "      <td>173.979996</td>\n",
       "      <td>174.710007</td>\n",
       "      <td>173.449997</td>\n",
       "      <td>174.199997</td>\n",
       "      <td>174.199997</td>\n",
       "      <td>43570900</td>\n",
       "      <td>-0.005481</td>\n",
       "      <td>-0.005496</td>\n",
       "      <td>17.412804</td>\n",
       "    </tr>\n",
       "    <tr>\n",
       "      <th>2023-05-23</th>\n",
       "      <td>173.130005</td>\n",
       "      <td>173.380005</td>\n",
       "      <td>171.279999</td>\n",
       "      <td>171.559998</td>\n",
       "      <td>171.559998</td>\n",
       "      <td>50747300</td>\n",
       "      <td>-0.015155</td>\n",
       "      <td>-0.015271</td>\n",
       "      <td>17.148913</td>\n",
       "    </tr>\n",
       "    <tr>\n",
       "      <th>2023-05-24</th>\n",
       "      <td>171.089996</td>\n",
       "      <td>172.419998</td>\n",
       "      <td>170.520004</td>\n",
       "      <td>171.839996</td>\n",
       "      <td>171.839996</td>\n",
       "      <td>45143500</td>\n",
       "      <td>0.001632</td>\n",
       "      <td>0.001631</td>\n",
       "      <td>17.176902</td>\n",
       "    </tr>\n",
       "    <tr>\n",
       "      <th>2023-05-25</th>\n",
       "      <td>172.410004</td>\n",
       "      <td>173.899994</td>\n",
       "      <td>171.690002</td>\n",
       "      <td>172.990005</td>\n",
       "      <td>172.990005</td>\n",
       "      <td>56058300</td>\n",
       "      <td>0.006692</td>\n",
       "      <td>0.006670</td>\n",
       "      <td>17.291855</td>\n",
       "    </tr>\n",
       "    <tr>\n",
       "      <th>2023-05-26</th>\n",
       "      <td>173.320007</td>\n",
       "      <td>175.770004</td>\n",
       "      <td>173.110001</td>\n",
       "      <td>175.429993</td>\n",
       "      <td>175.429993</td>\n",
       "      <td>54835000</td>\n",
       "      <td>0.014105</td>\n",
       "      <td>0.014006</td>\n",
       "      <td>17.535753</td>\n",
       "    </tr>\n",
       "  </tbody>\n",
       "</table>\n",
       "</div>"
      ],
      "text/plain": [
       "                  Open        High         Low       Close   Adj Close  \\\n",
       "Date                                                                     \n",
       "2023-05-22  173.979996  174.710007  173.449997  174.199997  174.199997   \n",
       "2023-05-23  173.130005  173.380005  171.279999  171.559998  171.559998   \n",
       "2023-05-24  171.089996  172.419998  170.520004  171.839996  171.839996   \n",
       "2023-05-25  172.410004  173.899994  171.690002  172.990005  172.990005   \n",
       "2023-05-26  173.320007  175.770004  173.110001  175.429993  175.429993   \n",
       "\n",
       "              Volume  simple_return  log_return  cum_daily_return  \n",
       "Date                                                               \n",
       "2023-05-22  43570900      -0.005481   -0.005496         17.412804  \n",
       "2023-05-23  50747300      -0.015155   -0.015271         17.148913  \n",
       "2023-05-24  45143500       0.001632    0.001631         17.176902  \n",
       "2023-05-25  56058300       0.006692    0.006670         17.291855  \n",
       "2023-05-26  54835000       0.014105    0.014006         17.535753  "
      ]
     },
     "execution_count": 42,
     "metadata": {},
     "output_type": "execute_result"
    }
   ],
   "source": [
    "df.tail()"
   ]
  },
  {
   "cell_type": "code",
   "execution_count": null,
   "id": "3951fcc5-540a-4e5d-8973-a329f9c2eeb4",
   "metadata": {},
   "outputs": [],
   "source": []
  },
  {
   "cell_type": "code",
   "execution_count": 43,
   "id": "3c583ae3-20ca-4c45-8c8b-3504ec1d3bdd",
   "metadata": {},
   "outputs": [
    {
     "data": {
      "image/png": "[encoded data removed]",
      "text/plain": [
       "<Figure size 1200x800 with 1 Axes>"
      ]
     },
     "metadata": {},
     "output_type": "display_data"
    }
   ],
   "source": [
    "fig = plt.figure()\n",
    "plt = df[\"cum_daily_return\"].plot(figsize=(12,8))"
   ]
  },
  {
   "cell_type": "code",
   "execution_count": null,
   "id": "12212fef-6af3-4e5f-b1de-18021997848b",
   "metadata": {},
   "outputs": [],
   "source": []
  }
 ],
 "metadata": {
  "kernelspec": {
   "display_name": "Python 3 (ipykernel)",
   "language": "python",
   "name": "python3"
  },
  "language_info": {
   "codemirror_mode": {
    "name": "ipython",
    "version": 3
   },
   "file_extension": ".py",
   "mimetype": "text/x-python",
   "name": "python",
   "nbconvert_exporter": "python",
   "pygments_lexer": "ipython3",
   "version": "3.10.6"
  }
 },
 "nbformat": 4,
 "nbformat_minor": 5
}
