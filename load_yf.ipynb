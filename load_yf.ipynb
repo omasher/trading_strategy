{
 "cells": [
  {
   "cell_type": "code",
   "execution_count": 9,
   "id": "b1c9120b-43a1-4a6b-8575-2229cc6e841f",
   "metadata": {},
   "outputs": [],
   "source": [
    "import pandas as pd\n",
    "import yfinance as yf\n",
    "import matplotlib.pyplot as plt"
   ]
  },
  {
   "cell_type": "code",
   "execution_count": 5,
   "id": "1c35db99-2e49-4950-90b9-c8f251fe536b",
   "metadata": {},
   "outputs": [],
   "source": [
    "df_apple = yf.download('AAPL',\n",
    "                       start='2011-01-01',\n",
    "                       end='2022-09-30',\n",
    "                       progress=False)"
   ]
  },
  {
   "cell_type": "code",
   "execution_count": 6,
   "id": "fd37653a-7c60-4d14-9049-b932eb1ecdac",
   "metadata": {},
   "outputs": [
    {
     "data": {
      "text/html": [
       "<div>\n",
       "<style scoped>\n",
       "    .dataframe tbody tr th:only-of-type {\n",
       "        vertical-align: middle;\n",
       "    }\n",
       "\n",
       "    .dataframe tbody tr th {\n",
       "        vertical-align: top;\n",
       "    }\n",
       "\n",
       "    .dataframe thead th {\n",
       "        text-align: right;\n",
       "    }\n",
       "</style>\n",
       "<table border=\"1\" class=\"dataframe\">\n",
       "  <thead>\n",
       "    <tr style=\"text-align: right;\">\n",
       "      <th></th>\n",
       "      <th>Open</th>\n",
       "      <th>High</th>\n",
       "      <th>Low</th>\n",
       "      <th>Close</th>\n",
       "      <th>Adj Close</th>\n",
       "      <th>Volume</th>\n",
       "    </tr>\n",
       "    <tr>\n",
       "      <th>Date</th>\n",
       "      <th></th>\n",
       "      <th></th>\n",
       "      <th></th>\n",
       "      <th></th>\n",
       "      <th></th>\n",
       "      <th></th>\n",
       "    </tr>\n",
       "  </thead>\n",
       "  <tbody>\n",
       "    <tr>\n",
       "      <th>2022-09-23</th>\n",
       "      <td>151.190002</td>\n",
       "      <td>151.470001</td>\n",
       "      <td>148.559998</td>\n",
       "      <td>150.429993</td>\n",
       "      <td>149.744797</td>\n",
       "      <td>96029900</td>\n",
       "    </tr>\n",
       "    <tr>\n",
       "      <th>2022-09-26</th>\n",
       "      <td>149.660004</td>\n",
       "      <td>153.770004</td>\n",
       "      <td>149.639999</td>\n",
       "      <td>150.770004</td>\n",
       "      <td>150.083252</td>\n",
       "      <td>93339400</td>\n",
       "    </tr>\n",
       "    <tr>\n",
       "      <th>2022-09-27</th>\n",
       "      <td>152.740005</td>\n",
       "      <td>154.720001</td>\n",
       "      <td>149.949997</td>\n",
       "      <td>151.759995</td>\n",
       "      <td>151.068741</td>\n",
       "      <td>84442700</td>\n",
       "    </tr>\n",
       "    <tr>\n",
       "      <th>2022-09-28</th>\n",
       "      <td>147.639999</td>\n",
       "      <td>150.639999</td>\n",
       "      <td>144.839996</td>\n",
       "      <td>149.839996</td>\n",
       "      <td>149.157471</td>\n",
       "      <td>146691400</td>\n",
       "    </tr>\n",
       "    <tr>\n",
       "      <th>2022-09-29</th>\n",
       "      <td>146.100006</td>\n",
       "      <td>146.720001</td>\n",
       "      <td>140.679993</td>\n",
       "      <td>142.479996</td>\n",
       "      <td>141.830994</td>\n",
       "      <td>128138200</td>\n",
       "    </tr>\n",
       "  </tbody>\n",
       "</table>\n",
       "</div>"
      ],
      "text/plain": [
       "                  Open        High         Low       Close   Adj Close  \\\n",
       "Date                                                                     \n",
       "2022-09-23  151.190002  151.470001  148.559998  150.429993  149.744797   \n",
       "2022-09-26  149.660004  153.770004  149.639999  150.770004  150.083252   \n",
       "2022-09-27  152.740005  154.720001  149.949997  151.759995  151.068741   \n",
       "2022-09-28  147.639999  150.639999  144.839996  149.839996  149.157471   \n",
       "2022-09-29  146.100006  146.720001  140.679993  142.479996  141.830994   \n",
       "\n",
       "               Volume  \n",
       "Date                   \n",
       "2022-09-23   96029900  \n",
       "2022-09-26   93339400  \n",
       "2022-09-27   84442700  \n",
       "2022-09-28  146691400  \n",
       "2022-09-29  128138200  "
      ]
     },
     "execution_count": 6,
     "metadata": {},
     "output_type": "execute_result"
    }
   ],
   "source": [
    "df_apple.tail()"
   ]
  },
  {
   "cell_type": "code",
   "execution_count": null,
   "id": "61f28443-1633-4d0b-bd73-90c77cb0227d",
   "metadata": {},
   "outputs": [],
   "source": []
  },
  {
   "cell_type": "code",
   "execution_count": 7,
   "id": "638038ad-0593-4752-8dd9-7bbcd36c0e13",
   "metadata": {},
   "outputs": [
    {
     "data": {
      "text/html": [
       "<div>\n",
       "<style scoped>\n",
       "    .dataframe tbody tr th:only-of-type {\n",
       "        vertical-align: middle;\n",
       "    }\n",
       "\n",
       "    .dataframe tbody tr th {\n",
       "        vertical-align: top;\n",
       "    }\n",
       "\n",
       "    .dataframe thead th {\n",
       "        text-align: right;\n",
       "    }\n",
       "</style>\n",
       "<table border=\"1\" class=\"dataframe\">\n",
       "  <thead>\n",
       "    <tr style=\"text-align: right;\">\n",
       "      <th></th>\n",
       "      <th>Open</th>\n",
       "      <th>High</th>\n",
       "      <th>Low</th>\n",
       "      <th>Close</th>\n",
       "      <th>Adj Close</th>\n",
       "      <th>Volume</th>\n",
       "    </tr>\n",
       "  </thead>\n",
       "  <tbody>\n",
       "    <tr>\n",
       "      <th>count</th>\n",
       "      <td>2956.000000</td>\n",
       "      <td>2956.000000</td>\n",
       "      <td>2956.000000</td>\n",
       "      <td>2956.000000</td>\n",
       "      <td>2956.000000</td>\n",
       "      <td>2.956000e+03</td>\n",
       "    </tr>\n",
       "    <tr>\n",
       "      <th>mean</th>\n",
       "      <td>52.895283</td>\n",
       "      <td>53.477129</td>\n",
       "      <td>52.326753</td>\n",
       "      <td>52.923795</td>\n",
       "      <td>50.845122</td>\n",
       "      <td>2.307508e+08</td>\n",
       "    </tr>\n",
       "    <tr>\n",
       "      <th>std</th>\n",
       "      <td>46.298359</td>\n",
       "      <td>46.888033</td>\n",
       "      <td>45.730042</td>\n",
       "      <td>46.332812</td>\n",
       "      <td>46.689467</td>\n",
       "      <td>1.942695e+08</td>\n",
       "    </tr>\n",
       "    <tr>\n",
       "      <th>min</th>\n",
       "      <td>11.310000</td>\n",
       "      <td>11.346429</td>\n",
       "      <td>11.089286</td>\n",
       "      <td>11.261429</td>\n",
       "      <td>9.571567</td>\n",
       "      <td>4.100000e+07</td>\n",
       "    </tr>\n",
       "    <tr>\n",
       "      <th>25%</th>\n",
       "      <td>21.244107</td>\n",
       "      <td>21.423572</td>\n",
       "      <td>20.999464</td>\n",
       "      <td>21.215536</td>\n",
       "      <td>18.300330</td>\n",
       "      <td>1.010697e+08</td>\n",
       "    </tr>\n",
       "    <tr>\n",
       "      <th>50%</th>\n",
       "      <td>31.908750</td>\n",
       "      <td>32.127501</td>\n",
       "      <td>31.634999</td>\n",
       "      <td>31.865000</td>\n",
       "      <td>28.781541</td>\n",
       "      <td>1.558982e+08</td>\n",
       "    </tr>\n",
       "    <tr>\n",
       "      <th>75%</th>\n",
       "      <td>59.520626</td>\n",
       "      <td>60.615000</td>\n",
       "      <td>58.846251</td>\n",
       "      <td>60.024376</td>\n",
       "      <td>58.458272</td>\n",
       "      <td>2.998844e+08</td>\n",
       "    </tr>\n",
       "    <tr>\n",
       "      <th>max</th>\n",
       "      <td>182.630005</td>\n",
       "      <td>182.940002</td>\n",
       "      <td>179.119995</td>\n",
       "      <td>182.009995</td>\n",
       "      <td>180.434296</td>\n",
       "      <td>1.880998e+09</td>\n",
       "    </tr>\n",
       "  </tbody>\n",
       "</table>\n",
       "</div>"
      ],
      "text/plain": [
       "              Open         High          Low        Close    Adj Close  \\\n",
       "count  2956.000000  2956.000000  2956.000000  2956.000000  2956.000000   \n",
       "mean     52.895283    53.477129    52.326753    52.923795    50.845122   \n",
       "std      46.298359    46.888033    45.730042    46.332812    46.689467   \n",
       "min      11.310000    11.346429    11.089286    11.261429     9.571567   \n",
       "25%      21.244107    21.423572    20.999464    21.215536    18.300330   \n",
       "50%      31.908750    32.127501    31.634999    31.865000    28.781541   \n",
       "75%      59.520626    60.615000    58.846251    60.024376    58.458272   \n",
       "max     182.630005   182.940002   179.119995   182.009995   180.434296   \n",
       "\n",
       "             Volume  \n",
       "count  2.956000e+03  \n",
       "mean   2.307508e+08  \n",
       "std    1.942695e+08  \n",
       "min    4.100000e+07  \n",
       "25%    1.010697e+08  \n",
       "50%    1.558982e+08  \n",
       "75%    2.998844e+08  \n",
       "max    1.880998e+09  "
      ]
     },
     "execution_count": 7,
     "metadata": {},
     "output_type": "execute_result"
    }
   ],
   "source": [
    "df_apple.describe()"
   ]
  },
  {
   "cell_type": "code",
   "execution_count": null,
   "id": "6d1d7a36-ed8f-46e3-ad74-213158d5236f",
   "metadata": {},
   "outputs": [],
   "source": []
  },
  {
   "cell_type": "code",
   "execution_count": 11,
   "id": "2cb3a1b0-c4c5-413e-a5e7-deec312e9511",
   "metadata": {},
   "outputs": [
    {
     "data": {
      "image/png": "[encoded data removed]",
      "text/plain": [
       "<Figure size 640x480 with 1 Axes>"
      ]
     },
     "metadata": {},
     "output_type": "display_data"
    }
   ],
   "source": [
    "fig = plt.figure()\n",
    "plt = df_apple['Adj Close'].plot()"
   ]
  },
  {
   "cell_type": "markdown",
   "id": "7791ef67-fe15-4241-bcf8-ae00fcdf7924",
   "metadata": {},
   "source": []
  },
  {
   "cell_type": "markdown",
   "id": "6891b13a-7d57-4f19-8364-f56fd0994664",
   "metadata": {},
   "source": [
    "**Simple Return**: This is the weighted sum of the returns of the individual assets in the portfolio. Simple returns are defined as"
   ]
  },
  {
   "attachments": {
    "01054b2a-a4d2-458a-9196-7ac7d205572a.png": {
     "image/png": "[encoded data removed]"
    },
    "67e205ea-4bf5-47f5-83c2-25b03e4c1ae8.png": {
     "image/png": "[encoded data removed]"
    }
   },
   "cell_type": "markdown",
   "id": "2991c559-8ce8-4b9e-a0ea-0c1181c27c0e",
   "metadata": {},
   "source": [
    "![image.png](attachment:67e205ea-4bf5-47f5-83c2-25b03e4c1ae8.png)![image.png](attachment:01054b2a-a4d2-458a-9196-7ac7d205572a.png)"
   ]
  },
  {
   "cell_type": "markdown",
   "id": "1083938e-c07f-4706-b249-226ca899f94e",
   "metadata": {},
   "source": [
    "**Log Return**: This is the sum of the log returns of the days within a given month. Log returns are defined as:"
   ]
  },
  {
   "attachments": {
    "4984f19f-7cdb-413a-8087-d16399f73dac.png": {
     "image/png": "[encoded data removed]"
    },
    "abc9f007-d50b-4e55-a0d0-f7958403f627.png": {
     "image/png": "[encoded data removed]"
    }
   },
   "cell_type": "markdown",
   "id": "14d02ca4-30e0-419f-b7e3-5131c970d622",
   "metadata": {},
   "source": [
    "![image.png](attachment:4984f19f-7cdb-413a-8087-d16399f73dac.png)![image.png](attachment:abc9f007-d50b-4e55-a0d0-f7958403f627.png)"
   ]
  },
  {
   "cell_type": "code",
   "execution_count": null,
   "id": "a8a51cce-e223-458c-acc5-4349ed145efc",
   "metadata": {},
   "outputs": [],
   "source": []
  },
  {
   "cell_type": "code",
   "execution_count": null,
   "id": "8cfd0400-2a81-4122-856c-bd20e4e1b4b4",
   "metadata": {},
   "outputs": [],
   "source": []
  }
 ],
 "metadata": {
  "kernelspec": {
   "display_name": "Python 3 (ipykernel)",
   "language": "python",
   "name": "python3"
  },
  "language_info": {
   "codemirror_mode": {
    "name": "ipython",
    "version": 3
   },
   "file_extension": ".py",
   "mimetype": "text/x-python",
   "name": "python",
   "nbconvert_exporter": "python",
   "pygments_lexer": "ipython3",
   "version": "3.10.6"
  }
 },
 "nbformat": 4,
 "nbformat_minor": 5
}
